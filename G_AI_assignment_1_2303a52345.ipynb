{
  "nbformat": 4,
  "nbformat_minor": 0,
  "metadata": {
    "colab": {
      "provenance": [],
      "authorship_tag": "ABX9TyOGMuQThXaotCv5MCqS1RPy",
      "include_colab_link": true
    },
    "kernelspec": {
      "name": "python3",
      "display_name": "Python 3"
    },
    "language_info": {
      "name": "python"
    }
  },
  "cells": [
    {
      "cell_type": "markdown",
      "metadata": {
        "id": "view-in-github",
        "colab_type": "text"
      },
      "source": [
        "<a href=\"https://colab.research.google.com/github/2303A52345/Generative-AI-2025-2345/blob/main/G_AI_assignment_1_2303a52345.ipynb\" target=\"_parent\"><img src=\"https://colab.research.google.com/assets/colab-badge.svg\" alt=\"Open In Colab\"/></a>"
      ]
    },
    {
      "cell_type": "code",
      "source": [
        "import numpy as np\n",
        "from sklearn.metrics import mean_absolute_error, mean_squared_error"
      ],
      "metadata": {
        "id": "yjr7c0OMTUUI"
      },
      "execution_count": 2,
      "outputs": []
    },
    {
      "cell_type": "code",
      "source": [
        "# Data\n",
        "y_actual = np.array([20, 30, 40, 50, 60])\n",
        "y_pred = np.array([20.5, 30.3, 40.2, 50.6, 60.7])"
      ],
      "metadata": {
        "id": "iT6D7dsmTVoQ"
      },
      "execution_count": 3,
      "outputs": []
    },
    {
      "cell_type": "code",
      "source": [
        "# From scratch calculations\n",
        "n = len(y_actual)\n",
        "absolute_errors = np.abs(y_actual - y_pred)\n",
        "squared_errors = (y_actual - y_pred) ** 2"
      ],
      "metadata": {
        "id": "tK3r8v4WTZ03"
      },
      "execution_count": 4,
      "outputs": []
    },
    {
      "cell_type": "code",
      "source": [
        "# Mean Absolute Error (MAE)\n",
        "mae = np.sum(absolute_errors) / n"
      ],
      "metadata": {
        "id": "Yd2ziorjTeCj"
      },
      "execution_count": 5,
      "outputs": []
    },
    {
      "cell_type": "code",
      "source": [
        "# Mean Squared Error (MSE)\n",
        "mse = np.sum(squared_errors) / n"
      ],
      "metadata": {
        "id": "lN2Bds76TivR"
      },
      "execution_count": 6,
      "outputs": []
    },
    {
      "cell_type": "code",
      "source": [
        "# Root Mean Squared Error (RMSE)\n",
        "rmse = np.sqrt(mse)"
      ],
      "metadata": {
        "id": "ERmQWeL0Tm0X"
      },
      "execution_count": 7,
      "outputs": []
    },
    {
      "cell_type": "code",
      "source": [
        "# Display results from scratch\n",
        "print(\"From Scratch:\")\n",
        "print(f\"Mean Absolute Error (MAE): {mae}\")\n",
        "print(f\"Mean Squared Error (MSE): {mse}\")\n",
        "print(f\"Root Mean Squared Error (RMSE): {rmse}\")"
      ],
      "metadata": {
        "colab": {
          "base_uri": "https://localhost:8080/"
        },
        "id": "CRVRu6usTtFt",
        "outputId": "4b91cd51-f6d2-445c-de85-6a1b1c18644d"
      },
      "execution_count": 8,
      "outputs": [
        {
          "output_type": "stream",
          "name": "stdout",
          "text": [
            "From Scratch:\n",
            "Mean Absolute Error (MAE): 0.4600000000000016\n",
            "Mean Squared Error (MSE): 0.24600000000000147\n",
            "Root Mean Squared Error (RMSE): 0.49598387070549127\n"
          ]
        }
      ]
    },
    {
      "cell_type": "code",
      "source": [
        "# Using libraries\n",
        "mae_lib = mean_absolute_error(y_actual, y_pred)\n",
        "mse_lib = mean_squared_error(y_actual, y_pred)\n",
        "rmse_lib = np.sqrt(mse_lib)"
      ],
      "metadata": {
        "id": "3w-tVwY_T8J6"
      },
      "execution_count": 9,
      "outputs": []
    },
    {
      "cell_type": "code",
      "source": [
        "# Display results using libraries\n",
        "print(\"\\nUsing Libraries:\")\n",
        "print(f\"Mean Absolute Error (MAE): {mae_lib}\")\n",
        "print(f\"Mean Squared Error (MSE): {mse_lib}\")\n",
        "print(f\"Root Mean Squared Error (RMSE): {rmse_lib}\")"
      ],
      "metadata": {
        "colab": {
          "base_uri": "https://localhost:8080/"
        },
        "id": "JbJvIvoYT_9g",
        "outputId": "46ee13cd-49e7-4d97-b2d9-5dc0880c26cd"
      },
      "execution_count": 10,
      "outputs": [
        {
          "output_type": "stream",
          "name": "stdout",
          "text": [
            "\n",
            "Using Libraries:\n",
            "Mean Absolute Error (MAE): 0.4600000000000016\n",
            "Mean Squared Error (MSE): 0.24600000000000147\n",
            "Root Mean Squared Error (RMSE): 0.49598387070549127\n"
          ]
        }
      ]
    },
    {
      "cell_type": "code",
      "source": [],
      "metadata": {
        "id": "CWA70HspUFTC"
      },
      "execution_count": null,
      "outputs": []
    }
  ]
}